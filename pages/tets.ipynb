{
 "cells": [
  {
   "cell_type": "code",
   "execution_count": 55,
   "id": "5794f810",
   "metadata": {},
   "outputs": [],
   "source": [
    "# lib\n",
    "import streamlit as st\n",
    "import pandas as pd\n",
    "import numpy as np\n",
    "from gensim import corpora\n",
    "from gensim import similarities\n",
    "from sklearn.feature_extraction.text import TfidfVectorizer\n",
    "from sklearn.metrics.pairwise import cosine_similarity\n",
    "import joblib\n",
    "from gensim.similarities import SparseMatrixSimilarity\n",
    "import re\n",
    "import unicodedata\n",
    "import string\n",
    "import seaborn as sns\n",
    "import matplotlib.pyplot as plt"
   ]
  },
  {
   "cell_type": "code",
   "execution_count": 61,
   "id": "57b3c472",
   "metadata": {},
   "outputs": [],
   "source": [
    "# search_input = st.text_input(\"Search for something...\")\n",
    "search_input = \"Khách sạn mới, phòng rộng, gần biển\""
   ]
  },
  {
   "cell_type": "code",
   "execution_count": 62,
   "id": "b5d8b187",
   "metadata": {},
   "outputs": [],
   "source": [
    "# parametor\n",
    "selected_model = \"gensim\"\n",
    "top_k = 3\n",
    "desc_limit = 100"
   ]
  }
 ],
 "metadata": {
  "kernelspec": {
   "display_name": ".venv",
   "language": "python",
   "name": "python3"
  },
  "language_info": {
   "codemirror_mode": {
    "name": "ipython",
    "version": 3
   },
   "file_extension": ".py",
   "mimetype": "text/x-python",
   "name": "python",
   "nbconvert_exporter": "python",
   "pygments_lexer": "ipython3",
   "version": "3.9.13"
  }
 },
 "nbformat": 4,
 "nbformat_minor": 5
}
